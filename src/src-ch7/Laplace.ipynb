{
 "cells": [
  {
   "cell_type": "markdown",
   "metadata": {},
   "source": [
    "# Eliptic PDEs\n",
    "\n",
    "## Laplace equation\n",
    "\n",
    "Let us start by discretizing the stationary heat equation in a rectangular plated with dimension as given in [Figure](#fig:73):"
   ]
  },
  {
   "cell_type": "markdown",
   "metadata": {},
   "source": [
    "<!-- Equation labels as ordinary links -->\n",
    "<div id=\"eq:7201\"></div>\n",
    "\n",
    "$$\n",
    "\\begin{equation}\n",
    "  \\frac{\\partial^2 T}{\\partial x^2} + \\frac{\\partial^2 T}{\\partial\n",
    "    y^2}=0\n",
    "\\label{eq:7201} \\tag{1}\n",
    "\\end{equation}\n",
    "$$"
   ]
  },
  {
   "cell_type": "markdown",
   "metadata": {},
   "source": [
    "<!-- dom:FIGURE:[fig/4.png, width=400 frac=0.6] Rectangular domain with prescribed values at the boundaries (Dirichlet). <div id=\"fig:73\"></div> -->\n",
    "<!-- begin figure -->\n",
    "<div id=\"fig:73\"></div>\n",
    "\n",
    "<p>Rectangular domain with prescribed values at the boundaries (Dirichlet).</p>\n",
    "<img src=\"fig/4.png\" width=400>\n",
    "\n",
    "<!-- end figure -->\n",
    "\n",
    "\n",
    "\n",
    "We adopt the following notation:"
   ]
  },
  {
   "cell_type": "markdown",
   "metadata": {},
   "source": [
    "$$\n",
    "x_i=x_0+i\\cdot h,\\ i=0,1,2,\\dots\n",
    "$$"
   ]
  },
  {
   "cell_type": "markdown",
   "metadata": {},
   "source": [
    "$$\n",
    "y_j=y_0+j\\cdot h,\\ j=0,1,2,\\dots\n",
    "$$"
   ]
  },
  {
   "cell_type": "markdown",
   "metadata": {},
   "source": [
    "<!-- dom:FIGURE:[fig/3_new_transparent.png, width=400 frac=0.6] Illustration of the numerical stencil. <div id=\"fig:ch7-3\"></div> -->\n",
    "<!-- begin figure -->\n",
    "<div id=\"fig:ch7-3\"></div>\n",
    "\n",
    "<p>Illustration of the numerical stencil.</p>\n",
    "<img src=\"fig/3_new_transparent.png\" width=400>\n",
    "\n",
    "<!-- end figure -->\n",
    "\n",
    "\n",
    "For convenience we assume $\\Delta x = \\Delta y = h$. The ordering of\n",
    "the unkown temperatures is illsustrated in .\n",
    "\n",
    "\n",
    "By approximation the second order differentials in [(1)](#eq:7201) by central differences we get the following numerical stencil:"
   ]
  },
  {
   "cell_type": "markdown",
   "metadata": {},
   "source": [
    "<!-- Equation labels as ordinary links -->\n",
    "<div id=\"eq:7202\"></div>\n",
    "\n",
    "$$\n",
    "\\begin{equation}\n",
    "  T_{i+1,j}+T_{i-1,j}+T_{i,j+1}+T_{i,j-1}-4 T_{i,j}=0\n",
    "\\label{eq:7202} \\tag{2}\n",
    "\\end{equation}\n",
    "$$"
   ]
  },
  {
   "cell_type": "markdown",
   "metadata": {},
   "source": [
    "which states that the temperature $T_{i,j}$ in at the location $(i,j)$ depends on the values of its neighbors to the left, right, up and down. Frequently, the neighbors are denoted in compass notation, i.e. $\\text{west}=i-1$, $\\text{east}=i+1$, $\\text{south}=j-1$, and $\\text{north}=j+1$. By referring to the compass directions with their first letters, and equivalent representation of the stencil in [(2)](#eq:7202) reads:"
   ]
  },
  {
   "cell_type": "markdown",
   "metadata": {},
   "source": [
    "<!-- Equation labels as ordinary links -->\n",
    "<div id=\"eq:compass\"></div>\n",
    "\n",
    "$$\n",
    "\\begin{equation}\n",
    "  T_{e}+T_{w}+T_{n}+T_{s}-4 T_{m}=0\n",
    "\\label{eq:compass} \\tag{3}\n",
    "\\end{equation}\n",
    "$$"
   ]
  },
  {
   "cell_type": "markdown",
   "metadata": {},
   "source": [
    "<!-- dom:FIGURE:[fig/3_compass_sanseriff.png, width=400 frac=0.6] Illustration of the numerical stencil with compass notation. <div id=\"fig:ch7-3_compass\"></div> -->\n",
    "<!-- begin figure -->\n",
    "<div id=\"fig:ch7-3_compass\"></div>\n",
    "\n",
    "<p>Illustration of the numerical stencil with compass notation.</p>\n",
    "<img src=\"fig/3_compass_sanseriff.png\" width=400>\n",
    "\n",
    "<!-- end figure -->\n",
    "\n",
    "\n",
    "The smoothing nature of elliptic problems may be seen even more clearly by isolating the $T_{i,j}$ in [(3)](#eq:compass) on the left hand side:"
   ]
  },
  {
   "cell_type": "markdown",
   "metadata": {},
   "source": [
    "<!-- Equation labels as ordinary links -->\n",
    "<div id=\"eq:avearge\"></div>\n",
    "\n",
    "$$\n",
    "\\begin{equation}\n",
    "T_{m}= \\frac{T_{e}+T_{w}+T_{n}+T_{s}}{4}\n",
    "\\label{eq:avearge} \\tag{4}\n",
    "\\end{equation}\n",
    "$$"
   ]
  },
  {
   "cell_type": "markdown",
   "metadata": {},
   "source": [
    "showing that the temperature $T_{m}$ in each point is the average temperature\n",
    "of the neighbors (to the east, west, north, and south).\n",
    "\n",
    "\n",
    "The temperature is prescribed at the bondaries (i.e. Dirichlet\n",
    "boundary conditions) and are given by:"
   ]
  },
  {
   "cell_type": "markdown",
   "metadata": {},
   "source": [
    "$$\n",
    "T=0.0 \\quad \\textrm{at} \\quad  y=0 \\nonumber\n",
    "$$"
   ]
  },
  {
   "cell_type": "markdown",
   "metadata": {},
   "source": [
    "<!-- Equation labels as ordinary links -->\n",
    "<div id=\"eq:BCs\"></div>\n",
    "\n",
    "$$\n",
    "\\begin{equation} \n",
    "  T=0.0 \\quad \\textrm{at} \\quad  x=0  \\quad \\textrm{ and }\\quad  x=1 \\quad  \\textrm{ for } \\quad 0 \\leq y < 1.5 \\label{eq:BCs} \\tag{5}\n",
    "\\end{equation}\n",
    "$$"
   ]
  },
  {
   "cell_type": "markdown",
   "metadata": {},
   "source": [
    "$$\n",
    "T=100.0 \\quad \\textrm{at} \\quad y=1.5 \\nonumber\n",
    "$$"
   ]
  },
  {
   "cell_type": "code",
   "execution_count": null,
   "metadata": {
    "collapsed": false
   },
   "outputs": [],
   "source": [
    "import sympy as sp\n",
    "sp.init_printing()"
   ]
  },
  {
   "cell_type": "code",
   "execution_count": null,
   "metadata": {
    "collapsed": false
   },
   "outputs": [],
   "source": [
    "def index(i, j):\n",
    "    return (i, j)\n",
    "\n",
    "nx = 3\n",
    "ny = 5 \n",
    "sp.Matrix(ny + 2, nx + 2, index)"
   ]
  },
  {
   "cell_type": "code",
   "execution_count": null,
   "metadata": {
    "collapsed": false
   },
   "outputs": [],
   "source": [
    "def T_interior_vector(i, j):\n",
    "    n = j*ny + (ny-i)\n",
    "    expr = 'T' + str(n)\n",
    "    expr = sp.symbols(expr)\n",
    "    return expr\n",
    "    \n",
    "T_vertical = sp.Matrix(ny, nx, T_interior_vector)\n",
    "T_vertical"
   ]
  },
  {
   "cell_type": "markdown",
   "metadata": {},
   "source": [
    "<!-- dom:FIGURE:[fig/4.png, width=400 frac=0.6] Rectangular domain with prescribed values at the boundaries (Dirichlet). <div id=\"fig:73b\"></div> -->\n",
    "<!-- begin figure -->\n",
    "<div id=\"fig:73b\"></div>\n",
    "\n",
    "<p>Rectangular domain with prescribed values at the boundaries (Dirichlet).</p>\n",
    "<img src=\"fig/4.png\" width=400>\n",
    "\n",
    "<!-- end figure -->"
   ]
  },
  {
   "cell_type": "code",
   "execution_count": null,
   "metadata": {
    "collapsed": false
   },
   "outputs": [],
   "source": [
    "def T_grid(i, j):\n",
    "    if i == 0:\n",
    "        T_value = 100\n",
    "    elif i == ny + 1:\n",
    "        T_value = 0\n",
    "    elif j == 0:\n",
    "        T_value = 0\n",
    "    elif j == nx + 1:\n",
    "        T_value = 0\n",
    "    else:\n",
    "        n = (j-1)*ny + (ny - i + 1)\n",
    "        expr = 'T' + str(n)\n",
    "        T_value = sp.symbols(expr)\n",
    "    return T_value\n",
    "    \n",
    "    \n",
    "def T_string(i, j):\n",
    "    expr = 'T' + str(i + 1)\n",
    "    expr = sp.symbols(expr)\n",
    "    return expr\n",
    "\n",
    "\n",
    "T = sp.Matrix(ny + 2, nx + 2, T_grid)\n",
    "T"
   ]
  },
  {
   "cell_type": "code",
   "execution_count": null,
   "metadata": {
    "collapsed": false
   },
   "outputs": [],
   "source": [
    "def differenceEqs(n):\n",
    "    j = (n-1)/ny + 1# integer division\n",
    "    n = n -(j-1)*ny\n",
    "    \n",
    "    i = ny - n + 1\n",
    "    diffeq = T[i-1,j] + T[i+1,j] + T[i,j-1] + T[i,j+1] - 4*T[i,j]\n",
    "    print \"i={0}, j={1}\".format(i, j)\n",
    "    return diffeq\n",
    "    \n",
    "differenceEqs(1)"
   ]
  },
  {
   "cell_type": "code",
   "execution_count": null,
   "metadata": {
    "collapsed": false
   },
   "outputs": [],
   "source": [
    "import numpy as np\n",
    "import scipy \n",
    "import scipy.sparse\n",
    "import scipy.sparse.linalg\n",
    "\n",
    "N = nx*ny\n",
    "mainD = -4*np.ones(N) # main diagonal\n",
    "\n",
    "d = np.zeros(N) # RHS\n",
    "d[ny-1::ny] = -100 # every ny element on RHS is -100\n",
    "superD = np.ones(N - 1)\n",
    "subD = np.ones(N - 1)\n",
    "\n",
    "superD[ny-1::ny] = 0 # every ny element on first diagonal is zero\n",
    "subD[ny-1::ny] = 0\n",
    "\n",
    "superD5 = np.ones(N - 5)\n",
    "subD5 = np.ones(N - 5)\n",
    "\n",
    "A = scipy.sparse.diags([subD5, subD, mainD, superD, superD5], [-5, -1, 0, 1, 5], format='csc', dtype=int)\n",
    "sp.Matrix(A.toarray()), sp.Matrix(N, 1, T_string)"
   ]
  },
  {
   "cell_type": "code",
   "execution_count": null,
   "metadata": {
    "collapsed": false
   },
   "outputs": [],
   "source": [
    "%matplotlib inline\n",
    "\n",
    "T_interior = scipy.sparse.linalg.spsolve(A, d)\n",
    "\n",
    "\n",
    "x = np.linspace(0, 1, 5)\n",
    "y = np.linspace(0, 1.5, 7)\n",
    "\n",
    "X, Y = np.meshgrid(x, y)\n",
    "\n",
    "T = np.zeros_like(X)\n",
    "\n",
    "T[-1,:] = 100\n",
    "\n",
    "for n in range(1,6):\n",
    "    T[n,1] = T_interior[n-1]\n",
    "    T[n,2] = T_interior[n+5-1]\n",
    "    T[n,3] = T_interior[n+10-1]\n",
    "    \n",
    "from mpl_toolkits.mplot3d import Axes3D\n",
    "from matplotlib import cm\n",
    "from matplotlib.ticker import LinearLocator, FormatStrFormatter\n",
    "import numpy as np"
   ]
  },
  {
   "cell_type": "code",
   "execution_count": null,
   "metadata": {
    "collapsed": false
   },
   "outputs": [],
   "source": [
    "\n",
    "%matplotlib inline\n",
    "import matplotlib\n",
    "import matplotlib.pyplot as plt\n",
    "\n",
    "from mpl_toolkits.mplot3d import Axes3D\n",
    "from matplotlib import cm\n",
    "from matplotlib.ticker import LinearLocator, FormatStrFormatter\n",
    "import numpy as np\n",
    "\n",
    "fig = plt.figure()\n",
    "\n",
    "\n",
    "ax = fig.gca(projection='3d')\n",
    "surf = ax.plot_surface(X, Y, T, rstride=1, cstride=1, cmap=cm.coolwarm,\n",
    "                       linewidth=0, antialiased=False)\n",
    "ax.set_zlim(0, 110)\n",
    "\n",
    "ax.zaxis.set_major_locator(LinearLocator(10))\n",
    "ax.zaxis.set_major_formatter(FormatStrFormatter('%.02f'))\n",
    "ax.set_xlabel('x')\n",
    "ax.set_ylabel('y')\n",
    "ax.set_zlabel('T [$^o$C]')\n",
    "ax.set_xticks(x)\n",
    "ax.set_yticks(y)\n",
    "\n",
    "fig.colorbar(surf, shrink=0.5, aspect=5)\n",
    "plt.show()"
   ]
  }
 ],
 "metadata": {
  "kernelspec": {
   "display_name": "Python 2",
   "language": "python",
   "name": "python2"
  },
  "language_info": {
   "codemirror_mode": {
    "name": "ipython",
    "version": 2
   },
   "file_extension": ".py",
   "mimetype": "text/x-python",
   "name": "python",
   "nbconvert_exporter": "python",
   "pygments_lexer": "ipython2",
   "version": "2.7.10"
  }
 },
 "nbformat": 4,
 "nbformat_minor": 0
}
