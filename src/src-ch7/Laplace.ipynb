{
 "cells": [
  {
   "cell_type": "markdown",
   "metadata": {},
   "source": [
    "# Eliptic PDEs\n",
    "\n",
    "## Laplace equation\n",
    "\n",
    "Let us start by discretizing the stationary heat equation in a rectangular plated with dimension as given in [Figure](#fig:73):"
   ]
  },
  {
   "cell_type": "markdown",
   "metadata": {},
   "source": [
    "<!-- Equation labels as ordinary links -->\n",
    "<div id=\"eq:7201\"></div>\n",
    "\n",
    "$$\n",
    "\\begin{equation}\n",
    "  \\frac{\\partial^2 T}{\\partial x^2} + \\frac{\\partial^2 T}{\\partial\n",
    "    y^2}=0\n",
    "\\label{eq:7201} \\tag{1}\n",
    "\\end{equation}\n",
    "$$"
   ]
  },
  {
   "cell_type": "markdown",
   "metadata": {},
   "source": [
    "<!-- dom:FIGURE:[4_new.png, width=400 frac=0.6] Rectangular domain with prescribed values at the boundaries (Dirichlet). <div id=\"fig:73\"></div> -->\n",
    "<!-- begin figure -->\n",
    "<div id=\"fig:73\"></div>\n",
    "\n",
    "<p>Rectangular domain with prescribed values at the boundaries (Dirichlet).</p>\n",
    "<img src=\"4_new.png\" width=400>\n",
    "\n",
    "<!-- end figure -->\n",
    "\n",
    "\n",
    "\n",
    "We adopt the following notation:"
   ]
  },
  {
   "cell_type": "markdown",
   "metadata": {},
   "source": [
    "$$\n",
    "x_i=x_0+i\\cdot h,\\ i=0,1,2,\\dots\n",
    "$$"
   ]
  },
  {
   "cell_type": "markdown",
   "metadata": {},
   "source": [
    "$$\n",
    "y_j=y_0+j\\cdot h,\\ j=0,1,2,\\dots\n",
    "$$"
   ]
  },
  {
   "cell_type": "markdown",
   "metadata": {},
   "source": [
    "<!-- dom:FIGURE:[3_new_transparent.png, width=400 frac=0.6] Illustration of the numerical stencil. <div id=\"fig:ch7-3\"></div> -->\n",
    "<!-- begin figure -->\n",
    "<div id=\"fig:ch7-3\"></div>\n",
    "\n",
    "<p>Illustration of the numerical stencil.</p>\n",
    "<img src=\"3_new_transparent.png\" width=400>\n",
    "\n",
    "<!-- end figure -->\n",
    "\n",
    "\n",
    "For convenience we assume $\\Delta x = \\Delta y = h$. The ordering of\n",
    "the unkown temperatures is illsustrated in .\n",
    "\n",
    "\n",
    "By approximation the second order differentials in [(1)](#eq:7201) by central differences we get the following numerical stencil:"
   ]
  },
  {
   "cell_type": "markdown",
   "metadata": {},
   "source": [
    "<!-- Equation labels as ordinary links -->\n",
    "<div id=\"eq:7202\"></div>\n",
    "\n",
    "$$\n",
    "\\begin{equation}\n",
    "  T_{i+1,j}+T_{i-1,j}+T_{i,j+1}+T_{i,j-1}-4 T_{i,j}=0\n",
    "\\label{eq:7202} \\tag{2}\n",
    "\\end{equation}\n",
    "$$"
   ]
  },
  {
   "cell_type": "markdown",
   "metadata": {},
   "source": [
    "which states that the temperature $T_{i,j}$ in at the location $(i,j)$ depends on the values of its neighbors to the left, right, up and down. Frequently, the neighbors are denoted in compass notation, i.e. $\\text{west}=i-1$, $\\text{east}=i+1$, $\\text{south}=j-1$, and $\\text{north}=j+1$. By referring to the compass directions with their first letters, and equivalent representation of the stencil in [(2)](#eq:7202) reads:"
   ]
  },
  {
   "cell_type": "markdown",
   "metadata": {},
   "source": [
    "<!-- Equation labels as ordinary links -->\n",
    "<div id=\"eq:compass\"></div>\n",
    "\n",
    "$$\n",
    "\\begin{equation}\n",
    "  T_{e}+T_{w}+T_{n}+T_{s}-4 T_{m}=0\n",
    "\\label{eq:compass} \\tag{3}\n",
    "\\end{equation}\n",
    "$$"
   ]
  },
  {
   "cell_type": "markdown",
   "metadata": {},
   "source": [
    "<!-- dom:FIGURE:[3_compass_sanseriff.png, width=400 frac=0.6] Illustration of the numerical stencil with compass notation. <div id=\"fig:ch7-3_compass\"></div> -->\n",
    "<!-- begin figure -->\n",
    "<div id=\"fig:ch7-3_compass\"></div>\n",
    "\n",
    "<p>Illustration of the numerical stencil with compass notation.</p>\n",
    "<img src=\"3_compass_sanseriff.png\" width=400>\n",
    "\n",
    "<!-- end figure -->\n",
    "\n",
    "\n",
    "The smoothing nature of elliptic problems may be seen even more clearly by isolating the $T_{i,j}$ in [(3)](#eq:compass) on the left hand side:"
   ]
  },
  {
   "cell_type": "markdown",
   "metadata": {},
   "source": [
    "<!-- Equation labels as ordinary links -->\n",
    "<div id=\"eq:avearge\"></div>\n",
    "\n",
    "$$\n",
    "\\begin{equation}\n",
    "T_{m}= \\frac{T_{e}+T_{w}+T_{n}+T_{s}}{4}\n",
    "\\label{eq:avearge} \\tag{4}\n",
    "\\end{equation}\n",
    "$$"
   ]
  },
  {
   "cell_type": "markdown",
   "metadata": {},
   "source": [
    "showing that the temperature $T_{m}$ in each point is the average temperature\n",
    "of the neighbors (to the east, west, north, and south).\n",
    "\n",
    "\n",
    "The temperature is prescribed at the bondaries (i.e. Dirichlet\n",
    "boundary conditions) and are given by:"
   ]
  },
  {
   "cell_type": "markdown",
   "metadata": {},
   "source": [
    "$$\n",
    "T=0.0 \\quad \\textrm{at} \\quad  y=0 \\nonumber\n",
    "$$"
   ]
  },
  {
   "cell_type": "markdown",
   "metadata": {},
   "source": [
    "<!-- Equation labels as ordinary links -->\n",
    "<div id=\"eq:BCs\"></div>\n",
    "\n",
    "$$\n",
    "\\begin{equation} \n",
    "  T=0.0 \\quad \\textrm{at} \\quad  x=0  \\quad \\textrm{ and }\\quad  x=1 \\quad  \\textrm{ for } \\quad 0 \\leq y < 1.5 \\label{eq:BCs} \\tag{5}\n",
    "\\end{equation}\n",
    "$$"
   ]
  },
  {
   "cell_type": "markdown",
   "metadata": {},
   "source": [
    "$$\n",
    "T=100.0 \\quad \\textrm{at} \\quad y=1.5 \\nonumber\n",
    "$$"
   ]
  },
  {
   "cell_type": "code",
   "execution_count": null,
   "metadata": {
    "collapsed": false
   },
   "outputs": [],
   "source": [
    "import sympy as sp\n",
    "sp.init_printing()"
   ]
  },
  {
   "cell_type": "code",
   "execution_count": null,
   "metadata": {
    "collapsed": false
   },
   "outputs": [],
   "source": [
    "def index(i, j):\n",
    "    return (i, j)\n",
    "\n",
    "nx = 3\n",
    "ny = 5 \n",
    "sp.Matrix(ny + 2, nx + 2, index)"
   ]
  },
  {
   "cell_type": "code",
   "execution_count": null,
   "metadata": {
    "collapsed": false
   },
   "outputs": [],
   "source": [
    "def T_interior_vector(i, j):\n",
    "    n = j*ny + (ny-i)\n",
    "    expr = 'T' + str(n)\n",
    "    expr = sp.symbols(expr)\n",
    "    return expr\n",
    "    \n",
    "T_vertical = sp.Matrix(ny, nx, T_interior_vector)\n",
    "T_vertical"
   ]
  },
  {
   "cell_type": "markdown",
   "metadata": {},
   "source": [
    "<!-- dom:FIGURE:[4_new.png, width=400 frac=0.6] Rectangular domain with prescribed values at the boundaries (Dirichlet). <div id=\"fig:73b\"></div> -->\n",
    "<!-- begin figure -->\n",
    "<div id=\"fig:73b\"></div>\n",
    "\n",
    "<p>Rectangular domain with prescribed values at the boundaries (Dirichlet).</p>\n",
    "<img src=\"4_new.png\" width=400>\n",
    "\n",
    "<!-- end figure -->"
   ]
  },
  {
   "cell_type": "code",
   "execution_count": null,
   "metadata": {
    "collapsed": false
   },
   "outputs": [],
   "source": [
    "def T_grid(i, j):\n",
    "    if i == 0:\n",
    "        T_value = 100\n",
    "    elif i == ny + 1:\n",
    "        T_value = 0\n",
    "    elif j == 0:\n",
    "        T_value = 0\n",
    "    elif j == nx + 1:\n",
    "        T_value = 0\n",
    "    else:\n",
    "        n = (j-1)*ny + (ny - i + 1)\n",
    "        expr = 'T' + str(n)\n",
    "        T_value = sp.symbols(expr)\n",
    "    return T_value\n",
    "    \n",
    "    \n",
    "def T_string(i, j):\n",
    "    expr = 'T' + str(i + 1)\n",
    "    expr = sp.symbols(expr)\n",
    "    return expr\n",
    "\n",
    "\n",
    "T = sp.Matrix(ny + 2, nx + 2, T_grid)\n",
    "T"
   ]
  },
  {
   "cell_type": "code",
   "execution_count": null,
   "metadata": {
    "collapsed": false
   },
   "outputs": [],
   "source": [
    "def differenceEqs(n):\n",
    "    j = (n-1)/ny + 1# integer division\n",
    "    n = n -(j-1)*ny\n",
    "    \n",
    "    i = ny - n + 1\n",
    "    diffeq = T[i-1,j] + T[i+1,j] + T[i,j-1] + T[i,j+1] - 4*T[i,j]\n",
    "    print \"i={0}, j={1}\".format(i, j)\n",
    "    return diffeq\n",
    "    \n",
    "differenceEqs(1)"
   ]
  },
  {
   "cell_type": "code",
   "execution_count": null,
   "metadata": {
    "collapsed": false
   },
   "outputs": [],
   "source": [
    "import numpy as np\n",
    "import scipy \n",
    "import scipy.sparse\n",
    "import scipy.sparse.linalg\n",
    "\n",
    "N = nx*ny\n",
    "mainD = -4*np.ones(N) # main diagonal\n",
    "\n",
    "d = np.zeros(N) # RHS\n",
    "d[ny-1::ny] = -100 # every ny element on RHS is -100\n",
    "superD = np.ones(N - 1)\n",
    "subD = np.ones(N - 1)\n",
    "\n",
    "superD[ny-1::ny] = 0 # every ny element on first diagonal is zero\n",
    "subD[ny-1::ny] = 0\n",
    "\n",
    "superD5 = np.ones(N - 5)\n",
    "subD5 = np.ones(N - 5)\n",
    "\n",
    "A = scipy.sparse.diags([subD5, subD, mainD, superD, superD5], [-5, -1, 0, 1, 5], format='csc', dtype=int)\n",
    "sp.Matrix(A.toarray()), sp.Matrix(N, 1, T_string)"
   ]
  },
  {
   "cell_type": "code",
   "execution_count": null,
   "metadata": {
    "collapsed": false
   },
   "outputs": [],
   "source": [
    "%matplotlib inline\n",
    "\n",
    "T_interior = scipy.sparse.linalg.spsolve(A, d)\n",
    "\n",
    "\n",
    "x = np.linspace(0, 1, 5)\n",
    "y = np.linspace(0, 1.5, 7)\n",
    "\n",
    "X, Y = np.meshgrid(x, y)\n",
    "\n",
    "T = np.zeros_like(X)\n",
    "\n",
    "T[-1,:] = 100\n",
    "\n",
    "for n in range(1,6):\n",
    "    T[n,1] = T_interior[n-1]\n",
    "    T[n,2] = T_interior[n+5-1]\n",
    "    T[n,3] = T_interior[n+10-1]\n",
    "    \n",
    "from mpl_toolkits.mplot3d import Axes3D\n",
    "from matplotlib import cm\n",
    "from matplotlib.ticker import LinearLocator, FormatStrFormatter\n",
    "import numpy as np"
   ]
  },
  {
   "cell_type": "code",
   "execution_count": null,
   "metadata": {
    "collapsed": false
   },
<<<<<<< HEAD
   "outputs": [
    {
     "data": {
      "image/png": "iVBORw0KGgoAAAANSUhEUgAAAVIAAADtCAYAAADtPv37AAAABHNCSVQICAgIfAhkiAAAAAlwSFlz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\nNpCtpd9GE/b8D0lrxVKpn7bjAAAAAElFTkSuQmCC\n",
      "text/plain": [
       "<matplotlib.figure.Figure at 0x1056b3c90>"
      ]
     },
     "metadata": {},
     "output_type": "display_data"
    }
   ],
=======
   "outputs": [],
>>>>>>> 644e01be9d6652bfd1af7ef8d157a0525936f10d
   "source": [
    "\n",
    "%matplotlib inline\n",
    "import matplotlib\n",
    "import matplotlib.pyplot as plt\n",
    "\n",
    "from mpl_toolkits.mplot3d import Axes3D\n",
    "from matplotlib import cm\n",
    "from matplotlib.ticker import LinearLocator, FormatStrFormatter\n",
    "import numpy as np\n",
    "\n",
    "fig = plt.figure()\n",
    "\n",
    "\n",
    "ax = fig.gca(projection='3d')\n",
    "surf = ax.plot_surface(X, Y, T, rstride=1, cstride=1, cmap=cm.coolwarm,\n",
    "                       linewidth=0, antialiased=False)\n",
    "ax.set_zlim(0, 110)\n",
    "\n",
    "ax.zaxis.set_major_locator(LinearLocator(10))\n",
    "ax.zaxis.set_major_formatter(FormatStrFormatter('%.02f'))\n",
    "ax.set_xlabel('x')\n",
    "ax.set_ylabel('y')\n",
    "ax.set_zlabel('T [$^o$C]')\n",
    "ax.set_xticks(x)\n",
    "ax.set_yticks(y)\n",
    "\n",
    "fig.colorbar(surf, shrink=0.5, aspect=5)\n",
    "plt.show()"
   ]
  }
 ],
 "metadata": {
  "kernelspec": {
   "display_name": "Python 2",
   "language": "python",
   "name": "python2"
  },
  "language_info": {
   "codemirror_mode": {
    "name": "ipython",
    "version": 2
   },
   "file_extension": ".py",
   "mimetype": "text/x-python",
   "name": "python",
   "nbconvert_exporter": "python",
   "pygments_lexer": "ipython2",
   "version": "2.7.10"
  }
 },
 "nbformat": 4,
 "nbformat_minor": 0
}
