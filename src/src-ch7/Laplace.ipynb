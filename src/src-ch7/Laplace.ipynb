{
 "cells": [
  {
   "cell_type": "markdown",
   "metadata": {},
   "source": [
    "# Eliptic PDE-s\n",
    "\n",
    "## Laplace equation\n",
    "\n",
    "Let us start by discretizing the stationary heat equation in a rectangular plated with dimension as given in [Figure](#fig:73):"
   ]
  },
  {
   "cell_type": "markdown",
   "metadata": {},
   "source": [
    "<!-- Equation labels as ordinary links -->\n",
    "<div id=\"eq:7201\"></div>\n",
    "\n",
    "$$\n",
    "\\begin{equation}\n",
    "  \\frac{\\partial^2 T}{\\partial x^2} + \\frac{\\partial^2 T}{\\partial\n",
    "    y^2}=0\n",
    "\\label{eq:7201} \\tag{1}\n",
    "\\end{equation}\n",
    "$$"
   ]
  },
  {
   "cell_type": "markdown",
   "metadata": {},
   "source": [
    "<!-- dom:FIGURE:[fig/4.png, width=400 frac=0.6] Rectangular domain with prescribed values at the boundaries (Dirichlet). <div id=\"fig:73\"></div> -->\n",
    "<!-- begin figure -->\n",
    "<div id=\"fig:73\"></div>\n",
    "\n",
    "<p>Rectangular domain with prescribed values at the boundaries (Dirichlet).</p>\n",
    "<img src=\"fig/4.png\" width=400>\n",
    "\n",
    "<!-- end figure -->\n",
    "\n",
    "\n",
    "\n",
    "We adopt the following notation:"
   ]
  },
  {
   "cell_type": "markdown",
   "metadata": {},
   "source": [
    "$$\n",
    "x_i=x_0+i\\cdot h,\\ i=0,1,2,\\dots\n",
    "$$"
   ]
  },
  {
   "cell_type": "markdown",
   "metadata": {},
   "source": [
    "$$\n",
    "y_j=y_0+j\\cdot h,\\ j=0,1,2,\\dots\n",
    "$$"
   ]
  },
  {
   "cell_type": "markdown",
   "metadata": {},
   "source": [
    "For convenience we assume $\\Delta x = \\Delta y = h$. The ordering of\n",
    "the unkown temperatures is illsustrated in .\n",
    "\n",
    "<!-- dom:FIGURE:[fig/3_new_transparent.png, width=400 frac=0.6] Illustration of the numerical stencil. <div id=\"fig:ch7-3\"></div> -->\n",
    "<!-- begin figure -->\n",
    "<div id=\"fig:ch7-3\"></div>\n",
    "\n",
    "<p>Illustration of the numerical stencil.</p>\n",
    "<img src=\"fig/3_new_transparent.png\" width=400>\n",
    "\n",
    "<!-- end figure -->\n",
    "\n",
    "\n",
    "By approximation the second order differentials in [(1)](#eq:7201) by central differences we get the following numerical stencil:"
   ]
  },
  {
   "cell_type": "markdown",
   "metadata": {},
   "source": [
    "<!-- Equation labels as ordinary links -->\n",
    "<div id=\"eq:7202\"></div>\n",
    "\n",
    "$$\n",
    "\\begin{equation}\n",
    "  T_{i+1,j}+T_{i-1,j}+T_{i,j+1}+T_{i,j-1}-4 T_{i,j}=0\n",
    "\\label{eq:7202} \\tag{2}\n",
    "\\end{equation}\n",
    "$$"
   ]
  },
  {
   "cell_type": "markdown",
   "metadata": {},
   "source": [
    "which states that the temperature $T_{i,j}$ in at the location $(i,j)$ depends on the values of its neighbors to the left, right, up and down. Frequently, the neighbors are denoted in compass notation, i.e. $\\text{west}=i-1$, $\\text{east}=i+1$, $\\text{south}=j-1$, and $\\text{north}=j+1$. By referring to the compass directions with their first letters, and equivalent representation of the stencil in [(2)](#eq:7202) reads:"
   ]
  },
  {
   "cell_type": "markdown",
   "metadata": {},
   "source": [
    "<!-- Equation labels as ordinary links -->\n",
    "<div id=\"eq:compass\"></div>\n",
    "\n",
    "$$\n",
    "\\begin{equation}\n",
    "  T_{e}+T_{w}+T_{n}+T_{s}-4 T_{m}=0\n",
    "  \\label{eq:compass} \\tag{3}\n",
    "\\end{equation}\n",
    "$$"
   ]
  },
  {
   "cell_type": "markdown",
   "metadata": {},
   "source": [
    "<!-- dom:FIGURE:[fig/3_compass_sanseriff.png, width=400 frac=0.6] Illustration of the numerical stencil with compass notation. <div id=\"fig:ch7-3_compass\"></div> -->\n",
    "<!-- begin figure -->\n",
    "<div id=\"fig:ch7-3_compass\"></div>\n",
    "\n",
    "<p>Illustration of the numerical stencil with compass notation.</p>\n",
    "<img src=\"fig/3_compass_sanseriff.png\" width=400>\n",
    "\n",
    "<!-- end figure -->\n",
    "\n",
    "\n",
    "The smoothing nature of elliptic problems may be seen even more clearly by isolating the $T_{i,j}$ in [(3)](#eq:compass) on the left hand side:"
   ]
  },
  {
   "cell_type": "markdown",
   "metadata": {},
   "source": [
    "<!-- Equation labels as ordinary links -->\n",
    "<div id=\"eq:avearge\"></div>\n",
    "\n",
    "$$\n",
    "\\begin{equation}\n",
    "T_{m}= \\frac{T_{e}+T_{w}+T_{n}+T_{s}}{4}\n",
    "\\label{eq:avearge} \\tag{4}\n",
    "\\end{equation}\n",
    "$$"
   ]
  },
  {
   "cell_type": "markdown",
   "metadata": {},
   "source": [
    "showing that the temperature $T_{m}$ in each point is the average temperature\n",
    "of the neighbors (to the east, west, north, and south).\n",
    "\n",
    "\n",
    "The temperature is prescribed at the bondaries (i.e. Dirichlet\n",
    "boundary conditions) and are given by:"
   ]
  },
  {
   "cell_type": "markdown",
   "metadata": {},
   "source": [
    "$$\n",
    "\\begin{equation}\n",
    "  T=0.0 \\quad \\textrm{at} \\quad  y=0 \\nonumber \n",
    "\\end{equation}\n",
    "$$"
   ]
  },
  {
   "cell_type": "markdown",
   "metadata": {},
   "source": [
    "<!-- Equation labels as ordinary links -->\n",
    "<div id=\"eq:BCs\"></div>\n",
    "\n",
    "$$\n",
    "\\begin{equation} \n",
    "  T=0.0 \\quad \\textrm{at} \\quad  x=0  \\quad \\textrm{ and }\\quad  x=1 \\quad  \\textrm{ for } \\quad 0 \\leq y < 1.5 \\label{eq:BCs} \\tag{5}\n",
    "\\end{equation}\n",
    "$$"
   ]
  },
  {
   "cell_type": "markdown",
   "metadata": {},
   "source": [
    "$$\n",
    "\\begin{equation} \n",
    "  T=100.0 \\quad \\textrm{at} \\quad y=1.5 \\nonumber\n",
    "\\end{equation}\n",
    "$$"
   ]
  },
  {
   "cell_type": "code",
   "execution_count": 1,
   "metadata": {
    "collapsed": false
   },
   "outputs": [],
   "source": [
    "import sympy as sp\n",
    "sp.init_printing()"
   ]
  },
  {
   "cell_type": "code",
   "execution_count": 2,
   "metadata": {
    "collapsed": false
   },
   "outputs": [],
   "source": [
    "def indice(i, j):\n",
    "    return (i, j)\n",
    "\n",
    "nx = 3\n",
    "ny = 5 \n",
    "sp.Matrix(ny + 2, nx + 2, indice)"
   ]
  },
  {
   "cell_type": "code",
   "execution_count": 3,
   "metadata": {
    "collapsed": false
   },
   "outputs": [],
   "source": [
    "def TPoints(i, j):\n",
    "    n = j*ny + (ny-i)\n",
    "    expr = 'T' + str(n)\n",
    "    expr = sp.symbols(expr)\n",
    "    return expr\n",
    "    \n",
    "Points = sp.Matrix(ny, nx, TPoints)\n",
    "Points"
   ]
  },
  {
   "cell_type": "code",
   "execution_count": 4,
   "metadata": {
    "collapsed": false
   },
   "outputs": [],
   "source": [
    "def TPointsFull(i, j):\n",
    "    if i == 0:\n",
    "        point = 100\n",
    "    elif i == ny + 1:\n",
    "        point = 0\n",
    "    elif j == 0:\n",
    "        point = 0\n",
    "    elif j == nx + 1:\n",
    "        point = 0\n",
    "    else:\n",
    "        n = (j-1)*ny + (ny - i + 1)\n",
    "        expr = 'T' + str(n)\n",
    "        point = sp.symbols(expr)\n",
    "    return point\n",
    "    \n",
    "    \n",
    "def unknown(i, j):\n",
    "    expr = 'T' + str(i + 1)\n",
    "    expr = sp.symbols(expr)\n",
    "    return expr\n",
    "\n",
    "\n",
    "T = sp.Matrix(ny + 2, nx + 2, TPointsFull)"
   ]
  },
  {
   "cell_type": "code",
   "execution_count": 5,
   "metadata": {
    "collapsed": false
   },
   "outputs": [],
   "source": [
    "def differenceEqs(n):\n",
    "    j = (n-1)/ny + 1# integer division\n",
    "    n = n -(j-1)*ny\n",
    "    \n",
    "    i = ny - n + 1\n",
    "    diffeq = T[i-1,j] + T[i+1,j] + T[i,j-1] + T[i,j+1] - 4*T[i,j]\n",
    "    print \"i={0}, j={1}\".format(i, j)\n",
    "    return diffeq\n",
    "    \n",
    "differenceEqs(1)"
   ]
  },
  {
   "cell_type": "code",
   "execution_count": 6,
   "metadata": {
    "collapsed": false
   },
   "outputs": [],
   "source": [
    "Eqs = []\n",
    "for n in range(nx*ny):\n",
    "    Eqs.append([differenceEqs(n + 1)])\n",
    "sp.Matrix(Eqs)"
   ]
  },
  {
   "cell_type": "code",
   "execution_count": 7,
   "metadata": {
    "collapsed": false
   },
   "outputs": [],
   "source": [
    "import numpy as np\n",
    "import scipy \n",
    "import scipy.sparse\n",
    "import scipy.sparse.linalg\n",
    "\n",
    "nx = nx*2\n",
    "ny = ny*2\n",
    "N = nx*ny\n",
    "mainD = -4*np.ones(N) # main diagonal\n",
    "\n",
    "d = np.zeros(N) # RHS\n",
    "d[ny-1::ny] = -100 # every ny element on RHS is -100\n",
    "superD = np.ones(N - 1)\n",
    "subD = np.ones(N - 1)\n",
    "\n",
    "superD[ny-1::ny] = 0 # every ny element on first diagonal is zero\n",
    "subD[ny-1::ny] = 0\n",
    "\n",
    "superD5 = np.ones(N - ny)\n",
    "subD5 = np.ones(N - ny)\n",
    "\n",
    "#A = scipy.sparse.diags([subD5, subD, mainD, superD, superD5], [-ny, -1, 0, 1, ny], format='csc', dtype=int) # should remove..\n",
    "# dtype=int when solving\n",
    "#sp.Matrix(A.toarray()), sp.Matrix(N, 1, unknown), sp.Matrix(d)"
   ]
  },
  {
   "cell_type": "code",
   "execution_count": 8,
   "metadata": {
    "collapsed": false
   },
   "outputs": [],
   "source": [
    "def TPointsFill(i, j):\n",
    "    if i == 0:\n",
    "        point = 100\n",
    "    elif i == ny + 1:\n",
    "        point = 0\n",
    "    elif j == 0:\n",
    "        point = 0\n",
    "    elif j == nx + 1:\n",
    "        point = 0\n",
    "    else:\n",
    "        n = (j-1)*ny + (ny - i + 1)\n",
    "        point = round(T[n - 1], 2)\n",
    "    return point\n",
    "\n",
    "A = scipy.sparse.diags([subD5, subD, mainD, superD, superD5], [-ny, -1, 0, 1, ny], format='csc')\n",
    "T = scipy.sparse.linalg.spsolve(A, d)\n",
    "sp.Matrix(ny + 2, nx + 2, TPointsFill)"
   ]
  },
  {
   "cell_type": "code",
   "execution_count": 9,
   "metadata": {
    "collapsed": false
   },
   "outputs": [],
   "source": [
    "%matplotlib inline\n",
    "\n",
    "%matplotlib inline\n",
    "import matplotlib.pylab as plt\n",
    "from Visualization import plot_Surface_yx\n",
    "fig = plot_Surface_yx(T, 100, 1, 1.5, nx + 1, ny + 1, nx, ny)\n",
    "plt.show()"
   ]
  }
 ],
 "metadata": {},
 "nbformat": 4,
 "nbformat_minor": 0
}
