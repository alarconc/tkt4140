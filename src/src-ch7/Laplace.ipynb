{
 "cells": [
  {
   "cell_type": "markdown",
   "metadata": {},
   "source": [
    "# Eliptic PDEs\n",
    "\n",
    "## Laplace equation\n",
    "\n",
    "Let us start by discretizing the stationary heat equation in a rectangular plated with dimension as given in [Figure](#fig:73):"
   ]
  },
  {
   "cell_type": "markdown",
   "metadata": {},
   "source": [
    "<!-- Equation labels as ordinary links -->\n",
    "<div id=\"eq:7201\"></div>\n",
    "\n",
    "$$\n",
    "\\begin{equation}\n",
    "  \\frac{\\partial^2 T}{\\partial x^2} + \\frac{\\partial^2 T}{\\partial\n",
    "    y^2}=0\n",
    "\\label{eq:7201} \\tag{1}\n",
    "\\end{equation}\n",
    "$$"
   ]
  },
  {
   "cell_type": "markdown",
   "metadata": {},
   "source": [
    "<!-- dom:FIGURE:[fig/4.png, width=400 frac=0.6] Rectangular domain with prescribed values at the boundaries (Dirichlet). <div id=\"fig:73\"></div> -->\n",
    "<!-- begin figure -->\n",
    "<div id=\"fig:73\"></div>\n",
    "\n",
    "<p>Rectangular domain with prescribed values at the boundaries (Dirichlet).</p>\n",
    "<img src=\"fig/4.png\" width=400>\n",
    "\n",
    "<!-- end figure -->\n",
    "\n",
    "\n",
    "\n",
    "We adopt the following notation:"
   ]
  },
  {
   "cell_type": "markdown",
   "metadata": {},
   "source": [
    "$$\n",
    "x_i=x_0+i\\cdot h,\\ i=0,1,2,\\dots\n",
    "$$"
   ]
  },
  {
   "cell_type": "markdown",
   "metadata": {},
   "source": [
    "$$\n",
    "y_j=y_0+j\\cdot h,\\ j=0,1,2,\\dots\n",
    "$$"
   ]
  },
  {
   "cell_type": "markdown",
   "metadata": {},
   "source": [
    "<!-- dom:FIGURE:[fig/3_new_transparent.png, width=400 frac=0.6] Illustration of the numerical stencil. <div id=\"fig:ch7-3\"></div> -->\n",
    "<!-- begin figure -->\n",
    "<div id=\"fig:ch7-3\"></div>\n",
    "\n",
    "<p>Illustration of the numerical stencil.</p>\n",
    "<img src=\"fig/3_new_transparent.png\" width=400>\n",
    "\n",
    "<!-- end figure -->\n",
    "\n",
    "\n",
    "For convenience we assume $\\Delta x = \\Delta y = h$. The ordering of\n",
    "the unkown temperatures is illsustrated in .\n",
    "\n",
    "\n",
    "By approximation the second order differentials in [(1)](#eq:7201) by central differences we get the following numerical stencil:"
   ]
  },
  {
   "cell_type": "markdown",
   "metadata": {},
   "source": [
    "<!-- Equation labels as ordinary links -->\n",
    "<div id=\"eq:7202\"></div>\n",
    "\n",
    "$$\n",
    "\\begin{equation}\n",
    "  T_{i+1,j}+T_{i-1,j}+T_{i,j+1}+T_{i,j-1}-4 T_{i,j}=0\n",
    "\\label{eq:7202} \\tag{2}\n",
    "\\end{equation}\n",
    "$$"
   ]
  },
  {
   "cell_type": "markdown",
   "metadata": {},
   "source": [
    "which states that the temperature $T_{i,j}$ in at the location $(i,j)$ depends on the values of its neighbors to the left, right, up and down. Frequently, the neighbors are denoted in compass notation, i.e. $\\text{west}=i-1$, $\\text{east}=i+1$, $\\text{south}=j-1$, and $\\text{north}=j+1$. By referring to the compass directions with their first letters, and equivalent representation of the stencil in [(2)](#eq:7202) reads:"
   ]
  },
  {
   "cell_type": "markdown",
   "metadata": {},
   "source": [
    "<!-- Equation labels as ordinary links -->\n",
    "<div id=\"eq:compass\"></div>\n",
    "\n",
    "$$\n",
    "\\begin{equation}\n",
    "  T_{e}+T_{w}+T_{n}+T_{s}-4 T_{m}=0\n",
    "\\label{eq:compass} \\tag{3}\n",
    "\\end{equation}\n",
    "$$"
   ]
  },
  {
   "cell_type": "markdown",
   "metadata": {},
   "source": [
    "<!-- dom:FIGURE:[fig/3_compass_sanseriff.png, width=400 frac=0.6] Illustration of the numerical stencil with compass notation. <div id=\"fig:ch7-3_compass\"></div> -->\n",
    "<!-- begin figure -->\n",
    "<div id=\"fig:ch7-3_compass\"></div>\n",
    "\n",
    "<p>Illustration of the numerical stencil with compass notation.</p>\n",
    "<img src=\"fig/3_compass_sanseriff.png\" width=400>\n",
    "\n",
    "<!-- end figure -->\n",
    "\n",
    "\n",
    "The smoothing nature of elliptic problems may be seen even more clearly by isolating the $T_{i,j}$ in [(3)](#eq:compass) on the left hand side:"
   ]
  },
  {
   "cell_type": "markdown",
   "metadata": {},
   "source": [
    "<!-- Equation labels as ordinary links -->\n",
    "<div id=\"eq:avearge\"></div>\n",
    "\n",
    "$$\n",
    "\\begin{equation}\n",
    "T_{m}= \\frac{T_{e}+T_{w}+T_{n}+T_{s}}{4}\n",
    "\\label{eq:avearge} \\tag{4}\n",
    "\\end{equation}\n",
    "$$"
   ]
  },
  {
   "cell_type": "markdown",
   "metadata": {},
   "source": [
    "showing that the temperature $T_{m}$ in each point is the average temperature\n",
    "of the neighbors (to the east, west, north, and south).\n",
    "\n",
    "\n",
    "The temperature is prescribed at the bondaries (i.e. Dirichlet\n",
    "boundary conditions) and are given by:"
   ]
  },
  {
   "cell_type": "markdown",
   "metadata": {},
   "source": [
    "$$\n",
    "T=0.0 \\quad \\textrm{at} \\quad  y=0 \\nonumber\n",
    "$$"
   ]
  },
  {
   "cell_type": "markdown",
   "metadata": {},
   "source": [
    "<!-- Equation labels as ordinary links -->\n",
    "<div id=\"eq:BCs\"></div>\n",
    "\n",
    "$$\n",
    "\\begin{equation} \n",
    "  T=0.0 \\quad \\textrm{at} \\quad  x=0  \\quad \\textrm{ and }\\quad  x=1 \\quad  \\textrm{ for } \\quad 0 \\leq y < 1.5 \\label{eq:BCs} \\tag{5}\n",
    "\\end{equation}\n",
    "$$"
   ]
  },
  {
   "cell_type": "markdown",
   "metadata": {},
   "source": [
    "$$\n",
    "T=100.0 \\quad \\textrm{at} \\quad y=1.5 \\nonumber\n",
    "$$"
   ]
  },
  {
   "cell_type": "code",
   "execution_count": 1,
   "metadata": {
    "collapsed": false
   },
   "outputs": [],
   "source": [
    "import sympy as sp\n",
    "sp.init_printing()"
   ]
  },
  {
   "cell_type": "code",
   "execution_count": 2,
   "metadata": {
    "collapsed": false
   },
   "outputs": [
    {
     "data": {
      "image/png": "[encoded data removed]",
      "text/latex": [
       "$$\\left[\\begin{matrix}\\left ( 0, \\quad 0\\right ) & \\left ( 0, \\quad 1\\right ) & \\left ( 0, \\quad 2\\right ) & \\left ( 0, \\quad 3\\right ) & \\left ( 0, \\quad 4\\right )\\\\\\left ( 1, \\quad 0\\right ) & \\left ( 1, \\quad 1\\right ) & \\left ( 1, \\quad 2\\right ) & \\left ( 1, \\quad 3\\right ) & \\left ( 1, \\quad 4\\right )\\\\\\left ( 2, \\quad 0\\right ) & \\left ( 2, \\quad 1\\right ) & \\left ( 2, \\quad 2\\right ) & \\left ( 2, \\quad 3\\right ) & \\left ( 2, \\quad 4\\right )\\\\\\left ( 3, \\quad 0\\right ) & \\left ( 3, \\quad 1\\right ) & \\left ( 3, \\quad 2\\right ) & \\left ( 3, \\quad 3\\right ) & \\left ( 3, \\quad 4\\right )\\\\\\left ( 4, \\quad 0\\right ) & \\left ( 4, \\quad 1\\right ) & \\left ( 4, \\quad 2\\right ) & \\left ( 4, \\quad 3\\right ) & \\left ( 4, \\quad 4\\right )\\\\\\left ( 5, \\quad 0\\right ) & \\left ( 5, \\quad 1\\right ) & \\left ( 5, \\quad 2\\right ) & \\left ( 5, \\quad 3\\right ) & \\left ( 5, \\quad 4\\right )\\\\\\left ( 6, \\quad 0\\right ) & \\left ( 6, \\quad 1\\right ) & \\left ( 6, \\quad 2\\right ) & \\left ( 6, \\quad 3\\right ) & \\left ( 6, \\quad 4\\right )\\end{matrix}\\right]$$"
      ],
      "text/plain": [
       "⎡(0, 0)  (0, 1)  (0, 2)  (0, 3)  (0, 4)⎤\n",
       "⎢                                      ⎥\n",
       "⎢(1, 0)  (1, 1)  (1, 2)  (1, 3)  (1, 4)⎥\n",
       "⎢                                      ⎥\n",
       "⎢(2, 0)  (2, 1)  (2, 2)  (2, 3)  (2, 4)⎥\n",
       "⎢                                      ⎥\n",
       "⎢(3, 0)  (3, 1)  (3, 2)  (3, 3)  (3, 4)⎥\n",
       "⎢                                      ⎥\n",
       "⎢(4, 0)  (4, 1)  (4, 2)  (4, 3)  (4, 4)⎥\n",
       "⎢                                      ⎥\n",
       "⎢(5, 0)  (5, 1)  (5, 2)  (5, 3)  (5, 4)⎥\n",
       "⎢                                      ⎥\n",
       "⎣(6, 0)  (6, 1)  (6, 2)  (6, 3)  (6, 4)⎦"
      ]
     },
     "execution_count": 2,
     "metadata": {},
     "output_type": "execute_result"
    }
   ],
   "source": [
    "def index(i, j):\n",
    "    return (i, j)\n",
    "\n",
    "nx = 3\n",
    "ny = 5 \n",
    "sp.Matrix(ny + 2, nx + 2, index)"
   ]
  },
  {
   "cell_type": "code",
   "execution_count": 3,
   "metadata": {
    "collapsed": false
   },
   "outputs": [
    {
     "data": {
      "image/png": "[encoded data removed]",
      "text/latex": [
       "$$\\left[\\begin{matrix}T_{5} & T_{10} & T_{15}\\\\T_{4} & T_{9} & T_{14}\\\\T_{3} & T_{8} & T_{13}\\\\T_{2} & T_{7} & T_{12}\\\\T_{1} & T_{6} & T_{11}\\end{matrix}\\right]$$"
      ],
      "text/plain": [
       "⎡T₅  T₁₀  T₁₅⎤\n",
       "⎢            ⎥\n",
       "⎢T₄  T₉   T₁₄⎥\n",
       "⎢            ⎥\n",
       "⎢T₃  T₈   T₁₃⎥\n",
       "⎢            ⎥\n",
       "⎢T₂  T₇   T₁₂⎥\n",
       "⎢            ⎥\n",
       "⎣T₁  T₆   T₁₁⎦"
      ]
     },
     "execution_count": 3,
     "metadata": {},
     "output_type": "execute_result"
    }
   ],
   "source": [
    "def T_interior_vector(i, j):\n",
    "    n = j*ny + (ny-i)\n",
    "    expr = 'T' + str(n)\n",
    "    expr = sp.symbols(expr)\n",
    "    return expr\n",
    "    \n",
    "T_vertical = sp.Matrix(ny, nx, T_interior_vector)\n",
    "T_vertical"
   ]
  },
  {
   "cell_type": "markdown",
   "metadata": {},
   "source": [
    "<!-- dom:FIGURE:[fig/4.png, width=400 frac=0.6] Rectangular domain with prescribed values at the boundaries (Dirichlet). <div id=\"fig:73b\"></div> -->\n",
    "<!-- begin figure -->\n",
    "<div id=\"fig:73b\"></div>\n",
    "\n",
    "<p>Rectangular domain with prescribed values at the boundaries (Dirichlet).</p>\n",
    "<img src=\"fig/4.png\" width=400>\n",
    "\n",
    "<!-- end figure -->"
   ]
  },
  {
   "cell_type": "code",
   "execution_count": 4,
   "metadata": {
    "collapsed": false
   },
   "outputs": [
    {
     "data": {
      "image/png": "[encoded data removed]",
      "text/latex": [
       "$$\\left[\\begin{matrix}100 & 100 & 100 & 100 & 100\\\\0 & T_{5} & T_{10} & T_{15} & 0\\\\0 & T_{4} & T_{9} & T_{14} & 0\\\\0 & T_{3} & T_{8} & T_{13} & 0\\\\0 & T_{2} & T_{7} & T_{12} & 0\\\\0 & T_{1} & T_{6} & T_{11} & 0\\\\0 & 0 & 0 & 0 & 0\\end{matrix}\\right]$$"
      ],
      "text/plain": [
       "⎡100  100  100  100  100⎤\n",
       "⎢                       ⎥\n",
       "⎢ 0   T₅   T₁₀  T₁₅   0 ⎥\n",
       "⎢                       ⎥\n",
       "⎢ 0   T₄   T₉   T₁₄   0 ⎥\n",
       "⎢                       ⎥\n",
       "⎢ 0   T₃   T₈   T₁₃   0 ⎥\n",
       "⎢                       ⎥\n",
       "⎢ 0   T₂   T₇   T₁₂   0 ⎥\n",
       "⎢                       ⎥\n",
       "⎢ 0   T₁   T₆   T₁₁   0 ⎥\n",
       "⎢                       ⎥\n",
       "⎣ 0    0    0    0    0 ⎦"
      ]
     },
     "execution_count": 4,
     "metadata": {},
     "output_type": "execute_result"
    }
   ],
   "source": [
    "def T_grid(i, j):\n",
    "    if i == 0:\n",
    "        T_value = 100\n",
    "    elif i == ny + 1:\n",
    "        T_value = 0\n",
    "    elif j == 0:\n",
    "        T_value = 0\n",
    "    elif j == nx + 1:\n",
    "        T_value = 0\n",
    "    else:\n",
    "        n = (j-1)*ny + (ny - i + 1)\n",
    "        expr = 'T' + str(n)\n",
    "        T_value = sp.symbols(expr)\n",
    "    return T_value\n",
    "    \n",
    "    \n",
    "def T_string(i, j):\n",
    "    expr = 'T' + str(i + 1)\n",
    "    expr = sp.symbols(expr)\n",
    "    return expr\n",
    "\n",
    "\n",
    "T = sp.Matrix(ny + 2, nx + 2, T_grid)\n",
    "T"
   ]
  },
  {
   "cell_type": "code",
   "execution_count": 5,
   "metadata": {
    "collapsed": false
   },
   "outputs": [
    {
     "name": "stdout",
     "output_type": "stream",
     "text": [
      "i=5, j=1\n"
     ]
    },
    {
     "data": {
      "image/png": "[encoded data removed]",
      "text/latex": [
       "$$- 4 T_{1} + T_{2} + T_{6}$$"
      ],
      "text/plain": [
       "-4⋅T₁ + T₂ + T₆"
      ]
     },
     "execution_count": 5,
     "metadata": {},
     "output_type": "execute_result"
    }
   ],
   "source": [
    "def differenceEqs(n):\n",
    "    j = (n-1)/ny + 1# integer division\n",
    "    n = n -(j-1)*ny\n",
    "    \n",
    "    i = ny - n + 1\n",
    "    diffeq = T[i-1,j] + T[i+1,j] + T[i,j-1] + T[i,j+1] - 4*T[i,j]\n",
    "    print \"i={0}, j={1}\".format(i, j)\n",
    "    return diffeq\n",
    "    \n",
    "differenceEqs(1)"
   ]
  },
  {
   "cell_type": "code",
   "execution_count": 6,
   "metadata": {
    "collapsed": false
   },
   "outputs": [
    {
     "data": {
      "image/png": "[encoded data removed]",
      "text/latex": [
       "$$\\left ( \\left[\\begin{array}{ccccccccccccccc}-4 & 1 & 0 & 0 & 0 & 1 & 0 & 0 & 0 & 0 & 0 & 0 & 0 & 0 & 0\\\\1 & -4 & 1 & 0 & 0 & 0 & 1 & 0 & 0 & 0 & 0 & 0 & 0 & 0 & 0\\\\0 & 1 & -4 & 1 & 0 & 0 & 0 & 1 & 0 & 0 & 0 & 0 & 0 & 0 & 0\\\\0 & 0 & 1 & -4 & 1 & 0 & 0 & 0 & 1 & 0 & 0 & 0 & 0 & 0 & 0\\\\0 & 0 & 0 & 1 & -4 & 0 & 0 & 0 & 0 & 1 & 0 & 0 & 0 & 0 & 0\\\\1 & 0 & 0 & 0 & 0 & -4 & 1 & 0 & 0 & 0 & 1 & 0 & 0 & 0 & 0\\\\0 & 1 & 0 & 0 & 0 & 1 & -4 & 1 & 0 & 0 & 0 & 1 & 0 & 0 & 0\\\\0 & 0 & 1 & 0 & 0 & 0 & 1 & -4 & 1 & 0 & 0 & 0 & 1 & 0 & 0\\\\0 & 0 & 0 & 1 & 0 & 0 & 0 & 1 & -4 & 1 & 0 & 0 & 0 & 1 & 0\\\\0 & 0 & 0 & 0 & 1 & 0 & 0 & 0 & 1 & -4 & 0 & 0 & 0 & 0 & 1\\\\0 & 0 & 0 & 0 & 0 & 1 & 0 & 0 & 0 & 0 & -4 & 1 & 0 & 0 & 0\\\\0 & 0 & 0 & 0 & 0 & 0 & 1 & 0 & 0 & 0 & 1 & -4 & 1 & 0 & 0\\\\0 & 0 & 0 & 0 & 0 & 0 & 0 & 1 & 0 & 0 & 0 & 1 & -4 & 1 & 0\\\\0 & 0 & 0 & 0 & 0 & 0 & 0 & 0 & 1 & 0 & 0 & 0 & 1 & -4 & 1\\\\0 & 0 & 0 & 0 & 0 & 0 & 0 & 0 & 0 & 1 & 0 & 0 & 0 & 1 & -4\\end{array}\\right], \\quad \\left[\\begin{matrix}T_{1}\\\\T_{2}\\\\T_{3}\\\\T_{4}\\\\T_{5}\\\\T_{6}\\\\T_{7}\\\\T_{8}\\\\T_{9}\\\\T_{10}\\\\T_{11}\\\\T_{12}\\\\T_{13}\\\\T_{14}\\\\T_{15}\\end{matrix}\\right]\\right )$$"
      ],
      "text/plain": [
       "⎛⎡-4  1   0   0   0   1   0   0   0   0   0   0   0   0   0 ⎤, ⎡T₁ ⎤⎞\n",
       "⎜⎢                                                          ⎥  ⎢   ⎥⎟\n",
       "⎜⎢1   -4  1   0   0   0   1   0   0   0   0   0   0   0   0 ⎥  ⎢T₂ ⎥⎟\n",
       "⎜⎢                                                          ⎥  ⎢   ⎥⎟\n",
       "⎜⎢0   1   -4  1   0   0   0   1   0   0   0   0   0   0   0 ⎥  ⎢T₃ ⎥⎟\n",
       "⎜⎢                                                          ⎥  ⎢   ⎥⎟\n",
       "⎜⎢0   0   1   -4  1   0   0   0   1   0   0   0   0   0   0 ⎥  ⎢T₄ ⎥⎟\n",
       "⎜⎢                                                          ⎥  ⎢   ⎥⎟\n",
       "⎜⎢0   0   0   1   -4  0   0   0   0   1   0   0   0   0   0 ⎥  ⎢T₅ ⎥⎟\n",
       "⎜⎢                                                          ⎥  ⎢   ⎥⎟\n",
       "⎜⎢1   0   0   0   0   -4  1   0   0   0   1   0   0   0   0 ⎥  ⎢T₆ ⎥⎟\n",
       "⎜⎢                                                          ⎥  ⎢   ⎥⎟\n",
       "⎜⎢0   1   0   0   0   1   -4  1   0   0   0   1   0   0   0 ⎥  ⎢T₇ ⎥⎟\n",
       "⎜⎢                                                          ⎥  ⎢   ⎥⎟\n",
       "⎜⎢0   0   1   0   0   0   1   -4  1   0   0   0   1   0   0 ⎥  ⎢T₈ ⎥⎟\n",
       "⎜⎢                                                          ⎥  ⎢   ⎥⎟\n",
       "⎜⎢0   0   0   1   0   0   0   1   -4  1   0   0   0   1   0 ⎥  ⎢T₉ ⎥⎟\n",
       "⎜⎢                                                          ⎥  ⎢   ⎥⎟\n",
       "⎜⎢0   0   0   0   1   0   0   0   1   -4  0   0   0   0   1 ⎥  ⎢T₁₀⎥⎟\n",
       "⎜⎢                                                          ⎥  ⎢   ⎥⎟\n",
       "⎜⎢0   0   0   0   0   1   0   0   0   0   -4  1   0   0   0 ⎥  ⎢T₁₁⎥⎟\n",
       "⎜⎢                                                          ⎥  ⎢   ⎥⎟\n",
       "⎜⎢0   0   0   0   0   0   1   0   0   0   1   -4  1   0   0 ⎥  ⎢T₁₂⎥⎟\n",
       "⎜⎢                                                          ⎥  ⎢   ⎥⎟\n",
       "⎜⎢0   0   0   0   0   0   0   1   0   0   0   1   -4  1   0 ⎥  ⎢T₁₃⎥⎟\n",
       "⎜⎢                                                          ⎥  ⎢   ⎥⎟\n",
       "⎜⎢0   0   0   0   0   0   0   0   1   0   0   0   1   -4  1 ⎥  ⎢T₁₄⎥⎟\n",
       "⎜⎢                                                          ⎥  ⎢   ⎥⎟\n",
       "⎝⎣0   0   0   0   0   0   0   0   0   1   0   0   0   1   -4⎦  ⎣T₁₅⎦⎠"
      ]
     },
     "execution_count": 6,
     "metadata": {},
     "output_type": "execute_result"
    }
   ],
   "source": [
    "import numpy as np\n",
    "import scipy \n",
    "import scipy.sparse\n",
    "import scipy.sparse.linalg\n",
    "\n",
    "N = nx*ny\n",
    "mainD = -4*np.ones(N) # main diagonal\n",
    "\n",
    "d = np.zeros(N) # RHS\n",
    "d[ny-1::ny] = -100 # every ny element on RHS is -100\n",
    "superD = np.ones(N - 1)\n",
    "subD = np.ones(N - 1)\n",
    "\n",
    "superD[ny-1::ny] = 0 # every ny element on first diagonal is zero\n",
    "subD[ny-1::ny] = 0\n",
    "\n",
    "superD5 = np.ones(N - 5)\n",
    "subD5 = np.ones(N - 5)\n",
    "\n",
    "A = scipy.sparse.diags([subD5, subD, mainD, superD, superD5], [-5, -1, 0, 1, 5], format='csc', dtype=int)\n",
    "sp.Matrix(A.toarray()), sp.Matrix(N, 1, T_string)"
   ]
  },
  {
   "cell_type": "code",
   "execution_count": 7,
   "metadata": {
    "collapsed": false
   },
   "outputs": [],
   "source": [
    "%matplotlib inline\n",
    "\n",
    "T_interior = scipy.sparse.linalg.spsolve(A, d)\n",
    "\n",
    "\n",
    "x = np.linspace(0, 1, 5)\n",
    "y = np.linspace(0, 1.5, 7)\n",
    "\n",
    "X, Y = np.meshgrid(x, y)\n",
    "\n",
    "T = np.zeros_like(X)\n",
    "\n",
    "T[-1,:] = 100\n",
    "\n",
    "for n in range(1,6):\n",
    "    T[n,1] = T_interior[n-1]\n",
    "    T[n,2] = T_interior[n+5-1]\n",
    "    T[n,3] = T_interior[n+10-1]\n",
    "    \n",
    "from mpl_toolkits.mplot3d import Axes3D\n",
    "from matplotlib import cm\n",
    "from matplotlib.ticker import LinearLocator, FormatStrFormatter\n",
    "import numpy as np"
   ]
  },
  {
   "cell_type": "code",
   "execution_count": 8,
   "metadata": {
    "collapsed": false
   },
   "outputs": [
    {
     "data": {
      "image/png": "[encoded data removed]",
      "text/plain": [
       "<matplotlib.figure.Figure at 0x105a5c150>"
      ]
     },
     "metadata": {},
     "output_type": "display_data"
    }
   ],
   "source": [
    "\n",
    "%matplotlib inline\n",
    "import matplotlib\n",
    "import matplotlib.pyplot as plt\n",
    "\n",
    "from mpl_toolkits.mplot3d import Axes3D\n",
    "from matplotlib import cm\n",
    "from matplotlib.ticker import LinearLocator, FormatStrFormatter\n",
    "import numpy as np\n",
    "\n",
    "fig = plt.figure()\n",
    "\n",
    "\n",
    "ax = fig.gca(projection='3d')\n",
    "surf = ax.plot_surface(X, Y, T, rstride=1, cstride=1, cmap=cm.coolwarm,\n",
    "                       linewidth=0, antialiased=False)\n",
    "ax.set_zlim(0, 110)\n",
    "\n",
    "ax.zaxis.set_major_locator(LinearLocator(10))\n",
    "ax.zaxis.set_major_formatter(FormatStrFormatter('%.02f'))\n",
    "ax.set_xlabel('x')\n",
    "ax.set_ylabel('y')\n",
    "ax.set_zlabel('T [$^o$C]')\n",
    "ax.set_xticks(x)\n",
    "ax.set_yticks(y)\n",
    "\n",
    "fig.colorbar(surf, shrink=0.5, aspect=5)\n",
    "plt.show()"
   ]
  }
 ],
 "metadata": {
  "kernelspec": {
   "display_name": "Python 2",
   "language": "python",
   "name": "python2"
  },
  "language_info": {
   "codemirror_mode": {
    "name": "ipython",
    "version": 2
   },
   "file_extension": ".py",
   "mimetype": "text/x-python",
   "name": "python",
   "nbconvert_exporter": "python",
   "pygments_lexer": "ipython2",
   "version": "2.7.11"
  }
 },
 "nbformat": 4,
 "nbformat_minor": 0
}
