{
 "cells": [
  {
   "cell_type": "markdown",
   "metadata": {},
   "source": [
    "# Linearinsering av ikke-lineaere ligninger\n",
    "<div id=\"ch3:sec4\"></div>\n",
    "\n",
    "Som eksempel, bruker vi problemet ett kjent problem:"
   ]
  },
  {
   "cell_type": "markdown",
   "metadata": {},
   "source": [
    "<!-- Equation labels as ordinary links -->\n",
    "<div id=\"eq:3401\"></div>\n",
    "\n",
    "$$\n",
    "\\begin{equation} \\label{eq:3401} \\tag{1}\n",
    "\\begin{array}{l}\n",
    "y''(x) = \\frac{3}{2}y^2\\\\\n",
    "y(0) = 4 \\ , \\ y(1) = 1\n",
    "\\end{array}\n",
    "\\end{equation}\n",
    "$$"
   ]
  },
  {
   "cell_type": "markdown",
   "metadata": {},
   "source": [
    "der en av losningene er gitt ved:"
   ]
  },
  {
   "cell_type": "markdown",
   "metadata": {},
   "source": [
    "<!-- Equation labels as ordinary links -->\n",
    "<div id=\"eq:3402\"></div>\n",
    "\n",
    "$$\n",
    "\\begin{equation} \\label{eq:3402} \\tag{2}\n",
    "y = \\frac{4}{(1+x)^2}\n",
    "\\end{equation}\n",
    "$$"
   ]
  },
  {
   "cell_type": "markdown",
   "metadata": {},
   "source": [
    "Vi diskretiserer[(1)](#eq:3401) med bruk av sentraldifferanser for $y''(x)$ :"
   ]
  },
  {
   "cell_type": "markdown",
   "metadata": {},
   "source": [
    "$$\n",
    "\\frac{y_{i+1}-2y_i+y_{i-1}}{h^2}= \\frac{3}{2}y_i^2\n",
    "$$"
   ]
  },
  {
   "cell_type": "markdown",
   "metadata": {},
   "source": [
    "eller ordnet:"
   ]
  },
  {
   "cell_type": "markdown",
   "metadata": {},
   "source": [
    "<!-- Equation labels as ordinary links -->\n",
    "<div id=\"eq:3403\"></div>\n",
    "\n",
    "$$\n",
    "\\begin{equation} \\label{eq:3403} \\tag{3}\n",
    "y_{i-1} - \\left( 2+\\frac{3}{2}h^2y_i\\right)y_i + y_{i+1} = 0\n",
    "\\end{equation}\n",
    "$$"
   ]
  },
  {
   "cell_type": "markdown",
   "metadata": {},
   "source": [
    "med h = $\\Delta x$\n",
    "\n",
    "<!-- dom:FIGURE:[fig16.png, width=400, frac=0.6] <div id=\"fig:316\"></div>  -->\n",
    "<!-- begin figure -->\n",
    "<div id=\"fig:316\"></div>\n",
    "\n",
    "<p></p>\n",
    "<img src=\"fig16.png\" width=400,>\n",
    "\n",
    "<!-- end figure -->\n",
    "\n",
    "\n",
    "Vi har delt intervallet $[ 0, 1]$ i $N + 1$ deler der $h=1/(N+1)$ og $x_i = h\\cdot i$ , $i = 0,1,...,N+1$. Da $y_0 = 4$ og $y_{N+1}  = 1$, \n",
    "blir [(3)](#eq:3403):"
   ]
  },
  {
   "cell_type": "markdown",
   "metadata": {},
   "source": [
    "<!-- Equation labels as ordinary links -->\n",
    "<div id=\"eq:3404\"></div>\n",
    "\n",
    "$$\n",
    "\\begin{equation} \\label{eq:3404} \\tag{4}\n",
    "\\begin{array}{rl}\n",
    "-\\left( 2+\\frac{3}{2}h^2y_1 \\right) y_1 + y_2 &= -4 \\\\\n",
    "& \\dots \\\\\n",
    "y_{i-1} - \\left(2+\\frac{3}{2}h^2y_i\\right) y_i+y_{i+1} &= 0 \\\\\n",
    "& \\dots \\\\\n",
    "y_{N-1} - \\left( 2 + \\frac{3}{2}h^2y_N\\right) y_N &= -1 \\\\\n",
    "\\text{der } i = 2,3,...N-1\\\\\n",
    "\\end{array}\n",
    "\\end{equation}\n",
    "$$"
   ]
  },
  {
   "cell_type": "code",
   "execution_count": 1,
   "metadata": {
    "collapsed": false
   },
   "outputs": [],
   "source": [
    "import sympy as sp\n",
    "sp.init_printing()"
   ]
  },
  {
   "cell_type": "code",
   "execution_count": 2,
   "metadata": {
    "collapsed": false
   },
   "outputs": [],
   "source": [
    "def Points(i, j):\n",
    "    expr = 'y' + str(j)\n",
    "    expr = sp.symbols(expr)\n",
    "    return expr\n",
    "    \n",
    "N = 5\n",
    "    \n",
    "yPoints = sp.Matrix(1, N + 2, Points)\n",
    "yPoints[0] = - 4\n",
    "yPoints[-1] = - 1\n",
    "yPoints"
   ]
  },
  {
   "cell_type": "code",
   "execution_count": 3,
   "metadata": {
    "collapsed": false
   },
   "outputs": [],
   "source": [
    "h = sp.symbols('h')\n",
    "def abcDiagonals(i, j):\n",
    "    y = 'y' + str(i + 1)\n",
    "    y = sp.symbols(y)\n",
    "    if i == j:\n",
    "        # main diagonal\n",
    "        out = -(2 + sp.Rational(3,2)*h**2*y)\n",
    "    elif i == j + 1:\n",
    "        # subdiagonal, directly below main\n",
    "        out = 1\n",
    "    elif j == i + 1:\n",
    "        # superdiagonal, directly above main\n",
    "        out = 1\n",
    "    else:\n",
    "        out = 0\n",
    "    return out\n",
    "    \n",
    "def unknown(i, j):\n",
    "    expr = 'y' + str(i + 1)\n",
    "    expr = sp.symbols(expr)\n",
    "    return expr"
   ]
  },
  {
   "cell_type": "code",
   "execution_count": 4,
   "metadata": {
    "collapsed": false
   },
   "outputs": [],
   "source": [
    "A = sp.Matrix(N, N, abcDiagonals)\n",
    "Y = sp.Matrix(N, 1, unknown)\n",
    "d = sp.Matrix.zeros(N, 1)\n",
    "d[0, 0] = -4\n",
    "d[N - 1, 0] = -1\n",
    "\n",
    "A, Y, d"
   ]
  },
  {
   "cell_type": "markdown",
   "metadata": {},
   "source": [
    "Maa altsaa kvitte oss med $y_i$ som forekommer i matrisen. \n",
    "\n",
    "## Metoden med etterslep\n",
    "\n",
    "Metoden med etterslep gaar ut paa aa starte\n",
    "en iterasjonsprosess, der vi starter med en valgt losning, og bruker forrige verdi av $y_i$ \n",
    "som input i matrisen."
   ]
  },
  {
   "cell_type": "code",
   "execution_count": 5,
   "metadata": {
    "collapsed": false
   },
   "outputs": [],
   "source": [
    "h = sp.symbols('h')\n",
    "def abcDiagonalsLin(i, j):\n",
    "    y = 'y^p_' + str(i + 1)\n",
    "    y = sp.symbols(y)\n",
    "    if i == j:\n",
    "        # main diagonal\n",
    "        out = -(2 + sp.Rational(3,2)*h**2*y)\n",
    "    elif i == j + 1:\n",
    "        # subdiagonal, directly below main\n",
    "        out = 1\n",
    "    elif j == i + 1:\n",
    "        # superdiagonal, directly above main\n",
    "        out = 1\n",
    "    else:\n",
    "        out = 0\n",
    "    return out\n",
    "A_lin = sp.Matrix(N, N, abcDiagonalsLin)\n",
    "A_lin, Y, d"
   ]
  },
  {
   "cell_type": "markdown",
   "metadata": {},
   "source": [
    "Hvor $y^p_i$ betyr at vi bruker forrige (previous) verdi av losningen.\n",
    "\n",
    "### Numerisk losning\n",
    "\n",
    "La oss for eksempel velge at $y^0_i = 0$, altsaa en vektor med bare 0 verdier."
   ]
  },
  {
   "cell_type": "code",
   "execution_count": 6,
   "metadata": {
    "collapsed": false
   },
   "outputs": [],
   "source": [
    "%matplotlib inline\n",
    "\n",
    "%matplotlib inline\n",
    "\n",
    "import matplotlib\n",
    "import matplotlib.pyplot as plt\n",
    "import numpy as np\n",
    "import scipy \n",
    "import scipy.sparse\n",
    "import scipy.sparse.linalg\n",
    "\n",
    "LNWDT=3; FNT=20\n",
    "plt.rcParams['lines.linewidth'] = LNWDT; plt.rcParams['font.size'] = FNT\n",
    "\n",
    "x = np.linspace(0, 1, N + 2)\n",
    "h = x[1]-x[0]\n",
    "Yp = np.zeros(N)\n",
    "\n",
    "d = np.zeros(N)\n",
    "d[0] = -4\n",
    "d[-1] = -1\n",
    "\n",
    "superdiagonal = np.ones(N - 1)\n",
    "subdiagonal = np.ones(N - 1)\n",
    "\n",
    "y_analytic = 4./(1 + x)**2\n",
    "\n",
    "for n in range(0):\n",
    "    maindiagonal = -(2 + 3/2.*Yp*h**2)\n",
    "\n",
    "    A = scipy.sparse.diags([subdiagonal, maindiagonal, superdiagonal], [-1, 0, 1], format='csc')\n",
    "    soln = scipy.sparse.linalg.spsolve(A, d)\n",
    "    Yp = soln\n",
    "Yp = np.append(4, Yp)\n",
    "Yp = np.append(Yp, 1)\n",
    "#sp.Matrix(soln), sp.Matrix(y_analytic)\n",
    "plt.figure()\n",
    "plt.plot(x, y_analytic, 'k')\n",
    "plt.plot(x, Yp, 'r--')\n",
    "plt.show()"
   ]
  },
  {
   "cell_type": "markdown",
   "metadata": {},
   "source": [
    "## Newton linearisering"
   ]
  },
  {
   "cell_type": "markdown",
   "metadata": {},
   "source": [
    "<!-- Equation labels as ordinary links -->\n",
    "<div id=\"eq:3427\"></div>\n",
    "\n",
    "$$\n",
    "\\begin{equation} \\label{eq:3427} \\tag{5}\n",
    "\\text{Setter } y^{m+1}_i = y_i^m + \\delta y_i\n",
    "\\end{equation}\n",
    "$$"
   ]
  },
  {
   "cell_type": "markdown",
   "metadata": {},
   "source": [
    "der $\\delta y_i$ er avviket (residuet) mellom $y_i$ -verdiene for de to iterasjonene.\n",
    "Ved bruk av [(5)](#eq:3427) :"
   ]
  },
  {
   "cell_type": "markdown",
   "metadata": {},
   "source": [
    "<!-- Equation labels as ordinary links -->\n",
    "<div id=\"eq:3428\"></div>\n",
    "\n",
    "$$\n",
    "\\begin{equation} \\label{eq:3428} \\tag{6}\n",
    "\\begin{array}{rcl}\n",
    "\\left( y_i^{m+1} \\right)^2 &= \\left( y_i^m + \\delta y_i \\right)^2 = (y_i^m)^2 + 2y_i^m \\cdot \\delta y_i + (\\delta y_i^m)^2\\\\\n",
    "&\\approx (y_i^m)^2 + 2 y_i^m \\cdot \\delta y_i = y_i^m(2y_i^{m+1}-y_i^m)\n",
    "\\end{array}\n",
    "\\end{equation}\n",
    "$$"
   ]
  },
  {
   "cell_type": "markdown",
   "metadata": {},
   "source": [
    "Lineariseringen bestaar i aa neglisjere $(\\delta y)^2$ som liten i forhold til de andre leddene.\n",
    "\n",
    "[(6)](#eq:3428) innsatt i [(4)](#eq:3404) gir folgende system:"
   ]
  },
  {
   "cell_type": "markdown",
   "metadata": {},
   "source": [
    "<!-- Equation labels as ordinary links -->\n",
    "<div id=\"eq:3429\"></div>\n",
    "\n",
    "$$\n",
    "\\begin{equation} \\label{eq:3429} \\tag{7}\n",
    "\\begin{array}{rcl}\n",
    "-(2+3y_1^mh^2)y_1^{m+1} + y_2^{m+1} &= -\\frac{3}{2}(y_i^mh)^2 -4\\\\\\\\\n",
    "y_{i-1}^{m+1} - (2+3y_i^mh^2)y_i^{m+1} + y_{i+1}^{m+1}&= -\\frac{3}{2}(y_i^mh)^2\\\\\\\\\n",
    "y_{N-1}^{m+1}- (2+3y_N^mh^2)y_N^{m+1} &= -\\frac{3}{2}(y_N^mh)^2 -1\\\\\n",
    "\\end{array}\n",
    "\\end{equation}\n",
    "$$"
   ]
  },
  {
   "cell_type": "code",
   "execution_count": 7,
   "metadata": {
    "collapsed": false
   },
   "outputs": [],
   "source": [
    "h = sp.symbols('h')\n",
    "def abcDiagonalsNewton(i, j):\n",
    "    y = 'y^p_' + str(i + 1)\n",
    "    y = sp.symbols(y)\n",
    "    if i == j:\n",
    "        # main diagonal\n",
    "        out = -(2 + 3*h**2*y)\n",
    "    elif i == j + 1:\n",
    "        # subdiagonal, directly below main\n",
    "        out = 1\n",
    "    elif j == i + 1:\n",
    "        # superdiagonal, directly above main\n",
    "        out = 1\n",
    "    else:\n",
    "        out = 0\n",
    "    return out\n",
    "\n",
    "def d_Newton(i, j):\n",
    "    y = 'yp_' + str(i + 1) + '^2'\n",
    "    y = sp.symbols(y)\n",
    "    expr = -sp.Rational(3,2)*h**2*y\n",
    "    return expr\n",
    "\n",
    "A_Newton = sp.Matrix(N, N, abcDiagonalsNewton)\n",
    "d_Newton = sp.Matrix(N, 1, d_Newton)\n",
    "d_Newton[0] = d_Newton[0] - 4\n",
    "d_Newton[N - 1] = d_Newton[N - 1] - 1\n",
    "A_Newton, Y, d_Newton"
   ]
  },
  {
   "cell_type": "markdown",
   "metadata": {},
   "source": [
    "### Numerisk losning\n",
    "\n",
    "Starter paa samme maate som i sted:"
   ]
  },
  {
   "cell_type": "code",
   "execution_count": 8,
   "metadata": {
    "collapsed": false
   },
   "outputs": [],
   "source": [
    "x = np.linspace(0, 1, N + 2)\n",
    "h = x[1]-x[0]\n",
    "\n",
    "Yp = np.zeros(N)\n",
    "y_analytic = 4./(1 + x)**2\n",
    "\n",
    "superdiagonal = np.ones(N-1)\n",
    "subdiagonal = np.ones(N-1)\n",
    "\n",
    "for n in range(0):\n",
    "\n",
    "    maindiagonal = (-3.*Yp*h**2 - 2)\n",
    "    \n",
    "    d = -(3./2)*(Yp*h)**2\n",
    "    d[0] = d[0] - 4\n",
    "    d[-1] = d[-1] - 1\n",
    "    \n",
    "    A = scipy.sparse.diags([subdiagonal, maindiagonal, superdiagonal], [-1, 0, 1], format='csc')\n",
    "    soln = scipy.sparse.linalg.spsolve(A, d)\n",
    "    Yp = soln\n",
    "    \n",
    "\n",
    "Yp = np.append(4, Yp)\n",
    "Yp = np.append(Yp, 1)\n",
    "plt.figure()\n",
    "plt.plot(x, y_analytic, 'k')\n",
    "plt.plot(x, Yp, 'r--')\n",
    "plt.show()"
   ]
  },
  {
   "cell_type": "markdown",
   "metadata": {},
   "source": [
    "## Repetisjon; skyteteknikk"
   ]
  },
  {
   "cell_type": "code",
   "execution_count": 9,
   "metadata": {
    "collapsed": false
   },
   "outputs": [],
   "source": [
    "from ODEschemes import rk4\n",
    "def dUfunc(Y, t):\n",
    "    y0 = Y[0]\n",
    "    y1 = Y[1]\n",
    "    return np.array([y1, (3./2)*y0**2])\n",
    "\n",
    "N = 9\n",
    "x = np.linspace(0, 1, N + 2)\n",
    "\n",
    "y_analytic = 4./(1 + x)**2\n",
    "\n",
    "s0 = -3.\n",
    "Y_0 = [4., s0]\n",
    "\n",
    "Y_shoot = rk4(dUfunc, Y_0, x)\n",
    "y_shoot = Y_shoot[:, 0]\n",
    "phi0 = y_shoot[-1] - 1\n",
    "\n",
    "s1 = -6.\n",
    "for n in range(1):\n",
    "    Y_0 = [4., s1]\n",
    "    Y_shoot = rk4(dUfunc, Y_0, x)\n",
    "    y_shoot = Y_shoot[:, 0]\n",
    "    phi1 = y_shoot[-1] - 1\n",
    "    print \"s1: {0}; phi1: {1}\".format(s1, phi1)\n",
    "    ds = -phi1 *(s1 - s0)/float(phi1 - phi0)\n",
    "    s0 = s1\n",
    "    s1 = s1 + ds\n",
    "    phi0 = phi1\n",
    "    \n",
    "plt.figure()\n",
    "plt.plot(x, y_analytic, 'k')\n",
    "plt.plot(x, y_shoot, 'r--')\n",
    "plt.show()"
   ]
  },
  {
   "cell_type": "markdown",
   "metadata": {},
   "source": [
    "Flere losninger:"
   ]
  },
  {
   "cell_type": "code",
   "execution_count": 10,
   "metadata": {
    "collapsed": false
   },
   "outputs": [],
   "source": [
    "\n",
    "sList = np.linspace(-50, 0, 51)\n",
    "phiList = np.zeros_like(sList)\n",
    "\n",
    "for n, s in enumerate(sList):\n",
    "    Y_0 = [4., s]\n",
    "    Y_shoot = rk4(dUfunc, Y_0, x)\n",
    "    y_shoot = Y_shoot[:, 0]\n",
    "    phiList[n] = y_shoot[-1] - 1\n",
    "    \n",
    "plt.figure()\n",
    "plt.plot(sList, phiList)\n",
    "plt.plot(sList, np.zeros_like(sList), 'k--')\n",
    "plt.ylim([-10, 5])\n",
    "plt.show()"
   ]
  },
  {
   "cell_type": "code",
   "execution_count": 11,
   "metadata": {
    "collapsed": false
   },
   "outputs": [],
   "source": [
    "s0 = -3.\n",
    "Y_0 = [4., s0]\n",
    "\n",
    "Y_shoot = rk4(dUfunc, Y_0, x)\n",
    "y_shoot = Y_shoot[:, 0]\n",
    "phi0 = y_shoot[-1] - 1\n",
    "\n",
    "s1 = -6.\n",
    "Y_0 = [4., s1]\n",
    "\n",
    "Y_shoot = rk4(dUfunc, Y_0, x)\n",
    "y_shoot = Y_shoot[:, 0]\n",
    "phi1 = y_shoot[-1] - 1\n",
    "\n",
    "ds = -phi1*(s1 - s0)/float(phi1 - phi0)\n",
    "s2 = s1 + ds\n",
    "\n",
    "plt.figure()\n",
    "plt.plot(sList, phiList)\n",
    "plt.plot(sList, np.zeros_like(sList), 'k--')\n",
    "plt.ylim([-10, 30])\n",
    "plt.plot([s0, s1, s2], [phi0, phi1, 0], 'r-o')\n",
    "plt.plot([s2], [0], 'go')\n",
    "plt.show()"
   ]
  },
  {
   "cell_type": "markdown",
   "metadata": {},
   "source": [
    "## Oppgave\n",
    "\n",
    "los den lineare differensiallikningen ved bruk av differansemetoder:"
   ]
  },
  {
   "cell_type": "markdown",
   "metadata": {},
   "source": [
    "<!-- Equation labels as ordinary links -->\n",
    "<div id=\"eq:cos\"></div>\n",
    "\n",
    "$$\n",
    "\\begin{equation} \\label{eq:cos} \\tag{8}\n",
    "\\begin{array}{l}\n",
    "y''(x) + y(x) = 0\\\\\n",
    "y(0) = -1 \\ , \\ y(\\pi) = 1\n",
    "\\end{array}\n",
    "\\end{equation}\n",
    "$$"
   ]
  },
  {
   "cell_type": "markdown",
   "metadata": {},
   "source": [
    "ved bruk av sentraldifferanser"
   ]
  },
  {
   "cell_type": "markdown",
   "metadata": {},
   "source": [
    "$$\n",
    "\\frac{y_{i+1}-2y_i+y_{i-1}}{h^2} + y_i = 0\n",
    "$$"
   ]
  },
  {
   "cell_type": "markdown",
   "metadata": {},
   "source": [
    "eller ordnet:"
   ]
  },
  {
   "cell_type": "markdown",
   "metadata": {},
   "source": [
    "$$\n",
    "y_{i-1} + \\left(h^2 - 2\\right)y_i + y_{i+1} = 0\n",
    "$$"
   ]
  },
  {
   "cell_type": "code",
   "execution_count": 12,
   "metadata": {
    "collapsed": false
   },
   "outputs": [],
   "source": [
    "%matplotlib inline\n",
    "\n",
    "import matplotlib\n",
    "import matplotlib.pylab as plt\n",
    "\n",
    "import sympy as sp\n",
    "import numpy as np\n",
    "import scipy \n",
    "import scipy.sparse\n",
    "import scipy.sparse.linalg\n",
    "\n",
    "N = 9\n",
    "x = np.linspace(0, np.pi, N + 2)\n",
    "h = x[1] - x[0]\n",
    "\n",
    "A = scipy.sparse.diags([], [], shape=(N, N), format='csc')\n",
    "d = np.zeros(N)\n",
    "d[0] = \n",
    "d[-1] = \n",
    "yNum = scipy.sparse.linalg.spsolve()\n",
    "\n",
    "yNum = np.append(-1, yNum)\n",
    "yNum = np.append(yNum, 1)\n",
    "\n",
    "plt.figure()\n",
    "plt.plot(x, -np.cos(x), 'k')\n",
    "plt.plot(x, yNum, 'r--')\n",
    "plt.show()"
   ]
  },
  {
   "cell_type": "markdown",
   "metadata": {},
   "source": [
    "## Oppgave 2\n",
    "\n",
    "los den ikke-lineare differensiallikningen ved bruk av ettersleps metoden:"
   ]
  },
  {
   "cell_type": "markdown",
   "metadata": {},
   "source": [
    "$$\n",
    "\\begin{array}{l}\n",
    "y''(x) = 2y(x)y'(x)\\\\\n",
    "y(0) = 0 \\ , \\ y(\\frac{\\pi}{4}) = 1\n",
    "\\end{array}\n",
    "$$"
   ]
  },
  {
   "cell_type": "markdown",
   "metadata": {},
   "source": [
    "ved bruk av sentraldifferanser paa baade y'' og y':"
   ]
  },
  {
   "cell_type": "markdown",
   "metadata": {},
   "source": [
    "$$\n",
    "\\frac{y_{i+1}-2y_i+y_{i-1}}{h^2} = 2y_i \\left(\\frac{y_{i + 1} - y_{i-1}}{2h}\\right)\n",
    "$$"
   ]
  },
  {
   "cell_type": "markdown",
   "metadata": {},
   "source": [
    "som videre gir:"
   ]
  },
  {
   "cell_type": "markdown",
   "metadata": {},
   "source": [
    "$$\n",
    "y_{i+1}-2y_i+y_{i-1} = h y_i \\left(y_{i + 1} - y_{i-1}\\right)\n",
    "$$"
   ]
  },
  {
   "cell_type": "markdown",
   "metadata": {},
   "source": [
    "Los ved aa bruke forrige verdi av $y$ paa hele det ikke-lineare leddet $2y_i \\left(\\frac{y_{i + 1} - y_{i-1}}{2h}\\right)$"
   ]
  },
  {
   "cell_type": "code",
   "execution_count": 13,
   "metadata": {
    "collapsed": false
   },
   "outputs": [],
   "source": [
    "%matplotlib inline\n",
    "\n",
    "import matplotlib\n",
    "import matplotlib.pylab as plt\n",
    "\n",
    "import sympy as sp\n",
    "import numpy as np\n",
    "import scipy \n",
    "import scipy.sparse\n",
    "import scipy.sparse.linalg\n",
    "\n",
    "N = 5\n",
    "x = np.linspace(0, np.pi/4., N + 2)\n",
    "h = x[1] - x[0]\n",
    "\n",
    "yp_full = np.linspace(0, 1, N + 2)\n",
    "yp = yp_full[1:-1]\n",
    "\n",
    "A = scipy.sparse.diags([], [], shape=(N, N), format='csc')\n",
    "\n",
    "for n in range(2):\n",
    "    yp_pluss = yp_full[2:]\n",
    "    yp_minus = yp_full[0:-2]\n",
    "    \n",
    "    d = \n",
    "    d[-1] = d[-1] -  \n",
    "    \n",
    "    yp = scipy.sparse.linalg.spsolve()\n",
    "    \n",
    "    yp_full = np.append(0, yp)\n",
    "    yp_full = np.append(yp_full, 1)\n",
    "\n",
    "\n",
    "plt.figure()\n",
    "plt.plot(x, np.tan(x), 'k')\n",
    "plt.plot(x, yp_full, 'r--')\n",
    "plt.show()"
   ]
  }
 ],
 "metadata": {},
 "nbformat": 4,
 "nbformat_minor": 0
}
